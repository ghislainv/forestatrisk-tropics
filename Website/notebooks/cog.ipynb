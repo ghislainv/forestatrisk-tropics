{
 "cells": [
  {
   "cell_type": "markdown",
   "metadata": {},
   "source": [
    "# Reading `forestatrisk` rasters as Cloud Optimized GeoTIFFs (COG)\n",
    "\n",
    "Notebook: [cog.ipynb](https://nbviewer.jupyter.org/urls/forestatrisk.cirad.fr/notebooks/cog.ipynb)\n",
    "\n",
    "## Cloud Optimized GeoTIFF\n",
    "\n",
    "A Cloud Optimized GeoTIFF (COG) is a regular GeoTIFF file, aimed at being hosted on a HTTP file server, with an internal organization that enables more efficient workflows on the cloud. It does this by leveraging the ability of clients issuing HTTP GET range requests to ask for just the parts of a file they need.\n",
    "\n",
    "Some ressources on COGs:\n",
    "\n",
    "- https://www.cogeo.org/\n",
    "- https://trac.osgeo.org/gdal/wiki/CloudOptimizedGeoTIFF\n",
    "\n",
    "\n",
    "## Python environment\n",
    "\n",
    "The `rasterio` Python module can be used to read COGs:\n",
    "\n",
    "- https://gist.github.com/sgillies/7e5cd548110a5b4d45ac1a1d93cb17a3\n",
    "- https://geohackweek.github.io/raster/04-workingwithrasters/\n",
    "- https://automating-gis-processes.github.io/CSC/notebooks/L5/read-cogs.html\n",
    "\n",
    "It is preferable to install the `rasterio` module inside a Python virtual environment. This virtual environment can be created using [`pyenv`](https://github.com/pyenv/pyenv) in a terminal:\n",
    "\n",
    "```bash\n",
    "# Install Python 3.6.10\n",
    "pyenv install 3.6.10\n",
    "pyenv local 3.6.10\n",
    "\n",
    "# Creating the virtualenv from our current python version\n",
    "pyenv virtualenv rasterio-cog\n",
    "\n",
    "# Activate the environment (pyenv can use automatic tab completion)\n",
    "pyenv activate 3.6.10/envs/rasterio-cog\n",
    "\n",
    "# Install Python modules\n",
    "pip install numpy\n",
    "pip install matplotlib # To plot rasters\n",
    "pip install jupyter # To run this jupyter notebook\n",
    "pip install rasterio\n",
    "```"
   ]
  },
  {
   "cell_type": "markdown",
   "metadata": {},
   "source": [
    "## Preambule\n",
    "\n",
    "We import the necessary Python modules and create a color palette for the raster map."
   ]
  },
  {
   "cell_type": "code",
   "execution_count": 1,
   "metadata": {},
   "outputs": [],
   "source": [
    "# Import modules\n",
    "import os\n",
    "import random\n",
    "\n",
    "import matplotlib.pyplot as plt\n",
    "from matplotlib.colors import ListedColormap\n",
    "import numpy as np\n",
    "import rasterio\n",
    "from rasterio import warp\n",
    "\n",
    "# Set environmental variable for CA certificates\n",
    "os.environ[\"CURL_CA_BUNDLE\"] = \"/etc/ssl/certs/ca-certificates.crt\""
   ]
  },
  {
   "cell_type": "code",
   "execution_count": 2,
   "metadata": {},
   "outputs": [],
   "source": [
    "# Color palette\n",
    "col = [(255, 165, 0, 255), (227, 26, 28, 255), (34, 139, 34, 255)]\n",
    "colors = [(1, 1, 1, 0)] # transparent white for 0\n",
    "cmax = 255.0  # float for division\n",
    "for i in range(3):\n",
    "    col_class = tuple(np.array(col[i]) / cmax)\n",
    "    colors.append(col_class)\n",
    "color_map = ListedColormap(colors)"
   ]
  },
  {
   "cell_type": "markdown",
   "metadata": {},
   "source": [
    "## Get information on the COG file"
   ]
  },
  {
   "cell_type": "code",
   "execution_count": 3,
   "metadata": {},
   "outputs": [
    {
     "name": "stdout",
     "output_type": "stream",
     "text": [
      "Raster on forestatrisk.cirad.fr:\n",
      "{'driver': 'GTiff', 'dtype': 'uint8', 'nodata': 0.0, 'width': 280148, 'height': 163042, 'count': 1, 'crs': CRS.from_wkt('PROJCS[\"unknown\",GEOGCS[\"WGS 84\",DATUM[\"WGS_1984\",SPHEROID[\"WGS 84\",6378137,298.257223563,AUTHORITY[\"EPSG\",\"7030\"]],AUTHORITY[\"EPSG\",\"6326\"]],PRIMEM[\"Greenwich\",0],UNIT[\"degree\",0.0174532925199433,AUTHORITY[\"EPSG\",\"9122\"]],AUTHORITY[\"EPSG\",\"4326\"]],PROJECTION[\"Albers_Conic_Equal_Area\"],PARAMETER[\"latitude_of_center\",0],PARAMETER[\"longitude_of_center\",25],PARAMETER[\"standard_parallel_1\",20],PARAMETER[\"standard_parallel_2\",-23],PARAMETER[\"false_easting\",0],PARAMETER[\"false_northing\",0],UNIT[\"metre\",1,AUTHORITY[\"EPSG\",\"9001\"]],AXIS[\"Easting\",EAST],AXIS[\"Northing\",NORTH]]'), 'transform': Affine(30.0, 0.0, -4446090.0,\n",
      "       0.0, -30.0, 1916550.0), 'blockxsize': 256, 'blockysize': 256, 'tiled': True, 'compress': 'deflate', 'interleave': 'band'}\n"
     ]
    }
   ],
   "source": [
    "# Get information on the geotiff file \n",
    "print('Raster on forestatrisk.cirad.fr:')\n",
    "filepath = 'https://forestatrisk.cirad.fr/tropics/tif/fcc123_AFR.tif'\n",
    "with rasterio.open(filepath) as src:\n",
    "    print(src.profile)"
   ]
  },
  {
   "cell_type": "markdown",
   "metadata": {},
   "source": [
    "## Get overview from COG file and plot"
   ]
  },
  {
   "cell_type": "code",
   "execution_count": 4,
   "metadata": {},
   "outputs": [
    {
     "name": "stdout",
     "output_type": "stream",
     "text": [
      "Decimation factor= 64\n"
     ]
    }
   ],
   "source": [
    "# Get overview\n",
    "with rasterio.open(filepath) as src:\n",
    "   oviews = src.overviews(1) # list of overviews from biggest to smallest\n",
    "   oview = oviews[-1] # let's look at the smallest overview\n",
    "   print('Decimation factor= {}'.format(oview))\n",
    "   # NOTE this is using a 'decimated read' (http://rasterio.readthedocs.io/en/latest/topics/resampling.html)\n",
    "   ovr = src.read(1, out_shape=(1, int(src.height // oview), int(src.width // oview)))"
   ]
  },
  {
   "cell_type": "code",
   "execution_count": 5,
   "metadata": {},
   "outputs": [
    {
     "name": "stdout",
     "output_type": "stream",
     "text": [
      "array type:  <class 'numpy.ndarray'>\n",
      "(2547, 4377)\n",
      "[[0 0 0 ... 0 0 0]\n",
      " [0 0 0 ... 0 0 0]\n",
      " [0 0 0 ... 0 0 0]\n",
      " ...\n",
      " [0 0 0 ... 0 0 0]\n",
      " [0 0 0 ... 0 0 0]\n",
      " [0 0 0 ... 0 0 0]]\n"
     ]
    }
   ],
   "source": [
    "# Overview array\n",
    "print('array type: ', type(ovr))\n",
    "print(ovr.shape)\n",
    "print(ovr)"
   ]
  },
  {
   "cell_type": "code",
   "execution_count": 6,
   "metadata": {},
   "outputs": [
    {
     "data": {
      "image/png": "[encoded data removed]",
      "text/plain": [
       "<Figure size 432x288 with 1 Axes>"
      ]
     },
     "metadata": {
      "needs_background": "light"
     },
     "output_type": "display_data"
    }
   ],
   "source": [
    "# Plot overview\n",
    "plt.imshow(ovr, cmap=color_map)\n",
    "plt.xlabel('Column #')\n",
    "plt.ylabel('Row #')\n",
    "plt.show()"
   ]
  },
  {
   "cell_type": "markdown",
   "metadata": {},
   "source": [
    "## Use a subset of the COG file\n",
    "\n",
    "Another nice feature of COGs is that you can request a subset of the image and only that subset will be downloaded to your computer.\n",
    "\n",
    "### Compute a Rasterio's window from a bounding box in Lon/Lat\n",
    "\n",
    "We write a small function to compute a Rasterio's window from a bounding box in Lon/Lat"
   ]
  },
  {
   "cell_type": "code",
   "execution_count": 7,
   "metadata": {},
   "outputs": [],
   "source": [
    "# Function to return a window in rows and cols\n",
    "def win_rows_cols(file_path, ll, ur):\n",
    "    \"\"\"\n",
    "    Return a window in the format (col_off, row_off, width, height)\n",
    "    from a window in longitude/latitude.\n",
    "    \n",
    "    :param file_path: path to the COG file.\n",
    "    :param ll: list of lower-left corner coordinates in lon/lat.\n",
    "    :param ur: list of upper-right corner coordinates in lon/lat.\n",
    "    \n",
    "    :retur: a tupple (col_off, row_off, width, height).\n",
    "    \"\"\"\n",
    "\n",
    "    # Get crs and transform from COG file\n",
    "    with rasterio.open(file_path) as src:\n",
    "        src_crs = src.crs\n",
    "        src_transform = src.transform\n",
    "\n",
    "    # Projected coordinates\n",
    "    X, Y = rasterio.warp.transform({'init': 'EPSG:4326'}, src_crs, [ll[0], ur[0]], [ll[1], ur[1]])\n",
    "\n",
    "    # Transform in row, col\n",
    "    (rows, cols) = rasterio.transform.rowcol(src_transform, X, Y)\n",
    "    ncols = cols[1]-cols[0]\n",
    "    nrows = rows[0]-rows[1] # ! rows[0] > rows[1]\n",
    "    \n",
    "    return {\"col_off\": cols[0], \"row_off\": rows[1], \"width\": ncols, \"height\": nrows}"
   ]
  },
  {
   "cell_type": "markdown",
   "metadata": {},
   "source": [
    "We use a bounding box over the [Perinet reserve](https://en.wikipedia.org/wiki/Andasibe-Mantadia_National_Park) in Madagascar."
   ]
  },
  {
   "cell_type": "code",
   "execution_count": 8,
   "metadata": {},
   "outputs": [
    {
     "name": "stdout",
     "output_type": "stream",
     "text": [
      "{'col_off': 228281, 'row_off': 137986, 'width': 513, 'height': 423}\n"
     ]
    }
   ],
   "source": [
    "# Compute window in rows and cols\n",
    "win = win_rows_cols(filepath, ll=[48.3890, -18.9784], ur=[48.5376, -18.8654])\n",
    "print(win)\n",
    "\n",
    "# Rasterio's window\n",
    "window = rasterio.windows.Window(win[\"col_off\"], win[\"row_off\"],\n",
    "                                 win[\"width\"], win[\"height\"])"
   ]
  },
  {
   "cell_type": "markdown",
   "metadata": {},
   "source": [
    "### Plot raster using the window"
   ]
  },
  {
   "cell_type": "code",
   "execution_count": 9,
   "metadata": {},
   "outputs": [
    {
     "data": {
      "image/png": "[encoded data removed]",
      "text/plain": [
       "<Figure size 432x288 with 1 Axes>"
      ]
     },
     "metadata": {
      "needs_background": "light"
     },
     "output_type": "display_data"
    }
   ],
   "source": [
    "# Plot raster using window\n",
    "with rasterio.open(filepath) as src:\n",
    "    subset = src.read(1, window=window)\n",
    "\n",
    "plt.imshow(subset, cmap=color_map)\n",
    "plt.title(f'Subset\\n{window}')\n",
    "plt.xlabel('Column #')\n",
    "plt.ylabel('Row #')\n",
    "plt.show()"
   ]
  },
  {
   "cell_type": "markdown",
   "metadata": {},
   "source": [
    "### Download the subset with gdal_translate\n",
    "\n",
    "A subset of the COG file can easily be downloaded using function `gdal_translate` from GDAL. Remember that argument [-projwin](https://gdal.org/programs/gdal_translate.html#cmdoption-gdal_translate-projwin) is `<ulx> <uly> <lrx> <lry>`."
   ]
  },
  {
   "cell_type": "code",
   "execution_count": 10,
   "metadata": {},
   "outputs": [
    {
     "data": {
      "text/plain": [
       "0"
      ]
     },
     "execution_count": 10,
     "metadata": {},
     "output_type": "execute_result"
    }
   ],
   "source": [
    "cmd = \"gdal_translate -projwin 48.3890 -18.8654 48.5376 -18.9784 -projwin_srs EPSG:4326 \\\n",
    "/vsicurl/https://forestatrisk.cirad.fr/tropics/tif/fcc123_AFR.tif perinet.tif\"\n",
    "os.system(cmd)"
   ]
  }
 ],
 "metadata": {
  "kernelspec": {
   "display_name": "Python 3",
   "language": "python",
   "name": "python3"
  },
  "language_info": {
   "codemirror_mode": {
    "name": "ipython",
    "version": 3
   },
   "file_extension": ".py",
   "mimetype": "text/x-python",
   "name": "python",
   "nbconvert_exporter": "python",
   "pygments_lexer": "ipython3",
   "version": "3.6.10"
  }
 },
 "nbformat": 4,
 "nbformat_minor": 2
}
