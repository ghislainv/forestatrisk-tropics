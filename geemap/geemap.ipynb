{
 "cells": [
  {
   "cell_type": "markdown",
   "metadata": {},
   "source": [
    "# Visualizing result maps with the `geemap` Python module\n",
    "\n",
    "author: Ghislain Vieilledent    \n",
    "email: ghislain.vieilledent@cirad.fr    \n",
    "web: https://ecology.ghislainv.fr    \n",
    "\n",
    "This notebook will show you how to use the `geemap` Python module to visualize result maps obtained remotely on Google Earth Engine (GEE) or locally on your computer."
   ]
  },
  {
   "cell_type": "markdown",
   "metadata": {},
   "source": [
    "Below is a legend of the annual product from JRC"
   ]
  },
  {
   "cell_type": "raw",
   "metadata": {},
   "source": [
    "# Annual product legend\n",
    "# 1. Tropical moist forest (TMF including bamboo-dominated forest and mangroves)\n",
    "# 2. TMF converted later in a tree plantation\n",
    "# 3. NEW degradation \n",
    "# 4. Ongoing degradation (disturbances still detected - can be few years after first degrad if several degradation stages)\n",
    "# 5. Degraded forest (former degradation, no disturbances detected anymore)\n",
    "# 6. NEW deforestation (may follow degradation)\n",
    "# 7. Ongoing deforestation (disturbances still detected)\n",
    "# 8. NEW Regrowth\n",
    "# 9. Regrowthing\n",
    "# 10. Other land cover (not water)\n",
    "# 11. Permanent Water (pekel et al.2015)     \n",
    "# 12. Seasonal Water (pekel et al.2015) \n",
    "# 13. Init period without valid data - Init class = TMF\n",
    "# 14. Init period with min 1 valid obs - Init class = TMF\n",
    "# 15. Nodata  - Init class = other LC \n",
    "# 16. Init period without valid data - Init class = Plantation"
   ]
  },
  {
   "cell_type": "code",
   "execution_count": 2,
   "metadata": {},
   "outputs": [],
   "source": [
    "# Imports\n",
    "import ee\n",
    "import geemap\n",
    "\n",
    "# Initialize EarthEngine\n",
    "ee.Initialize()\n",
    "\n",
    "# rgb2hex\n",
    "def rgb2hex(r, g, b):\n",
    "    hex = \"#{:02x}{:02x}{:02x}\".format(r, g, b)\n",
    "    return hex\n",
    "\n",
    "# Extent\n",
    "iso3 = \"REU\"\n",
    "if iso3 == \"REU\":\n",
    "    extent_latlong = [55.216251, -21.389860, 55.837360, -20.871805]\n",
    "elif iso3 == \"MDG\":\n",
    "    extent_latlong = [43.10, -25.15, 51.70, -11.80]\n",
    "elif iso3 == \"BEN\":\n",
    "    extent_latlong = [0.7745, 6.2351, 3.8517, 12.4183]\n",
    "elif iso3 == \"NCL\":\n",
    "    extent_latlong = [0.7745, 6.2351, 3.8517, 12.4183]\n",
    "elif iso3 == \"Masoala\":\n",
    "    extent_latlong = [0.7745, 6.2351, 3.8517, 12.4183]\n",
    "\n",
    "# Region\n",
    "region = ee.Geometry.Rectangle(extent_latlong, proj=\"EPSG:4326\",\n",
    "                               geodesic=False)\n",
    "region = region.buffer(10000).bounds()\n",
    "export_coord = region.getInfo()[\"coordinates\"]\n",
    "\n",
    "# JRC annual product (AP)\n",
    "AP = ee.ImageCollection(\"users/ClassifLandsat072015/Roadless2019/AnnualChanges_1982_2019\")\n",
    "AP = AP.mosaic().toByte().unmask()\n",
    "AP = AP.clip(region)\n",
    "MASK = AP.select(0)\n",
    "AP = AP.where(MASK.eq(0), 0)\n",
    "\n",
    "# ap_allYear: forest if Y = 1, 2, 3, 4, 5, 13, or 14.\n",
    "AP_forest = AP.where(AP.eq(2).Or(AP.eq(3)).Or(AP.eq(4)).Or(\n",
    "    AP.eq(5)).Or(AP.eq(13)).Or(AP.eq(14)), 1)\n",
    "ap_allYear = AP_forest.where(AP_forest.neq(1), 0)\n",
    "\n",
    "# Forest in Jan 2020\n",
    "forest2020 = ap_allYear.select(37)\n",
    "\n",
    "# Map.addLayer(forest2020, {'min': 0, 'max': 1, 'palette': [\"red\", \"green\"]}, \"forest2020\", True)\n",
    "\n",
    "# Forest cover Jan 2015\n",
    "ap_2015_2020 = ap_allYear.select(list(range(32, 38)))\n",
    "forest2015 = ap_2015_2020.reduce(ee.Reducer.sum())\n",
    "forest2015 = forest2015.gte(1)\n",
    "\n",
    "# Forest cover Jan 2010\n",
    "ap_2010_2020 = ap_allYear.select(list(range(27, 38)))\n",
    "forest2010 = ap_2010_2020.reduce(ee.Reducer.sum())\n",
    "forest2010 = forest2010.gte(1)\n",
    "\n",
    "# Forest cover Jan 2005\n",
    "ap_2005_2020 = ap_allYear.select(list(range(22, 38)))\n",
    "forest2005 = ap_2005_2020.reduce(ee.Reducer.sum())\n",
    "forest2005 = forest2005.gte(1)\n",
    "\n",
    "# Forest cover Jan 2000\n",
    "ap_2000_2020 = ap_allYear.select(list(range(17, 38)))\n",
    "forest2000 = ap_2000_2020.reduce(ee.Reducer.sum())\n",
    "forest2000 = forest2000.gte(1)\n",
    "\n",
    "# Forest raster with five bands\n",
    "forest = forest2000.addBands(forest2005).addBands(\n",
    "    forest2010).addBands(forest2015).addBands(forest2020)\n",
    "forest = forest.select([0, 1, 2, 3, 4], [\"forest2000\", \"forest2005\",\n",
    "                                         \"forest2010\", \"forest2015\",\n",
    "                                         \"forest2020\"])\n",
    "forest = forest.set(\"system:bandNames\", [\"forest2000\", \"forest2005\",\n",
    "                                         \"forest2010\", \"forest2015\",\n",
    "                                         \"forest2020\"])\n",
    "\n",
    "# Forest raster with three values\n",
    "forest = forest2000.where(forest2010.eq(1), 2).where(forest2020.eq(1), 3)\n",
    "\n",
    "# Palette\n",
    "Palette = [rgb2hex(255, 255, 255), rgb2hex(255, 165, 0), rgb2hex(227, 26, 28), rgb2hex(34, 139, 34)]"
   ]
  },
  {
   "cell_type": "code",
   "execution_count": 4,
   "metadata": {},
   "outputs": [
    {
     "data": {
      "application/vnd.jupyter.widget-view+json": {
       "model_id": "15dee9f3fc8b4cb99faa83ad3570b664",
       "version_major": 2,
       "version_minor": 0
      },
      "text/plain": [
       "Map(center=[-21.11, 55.53], controls=(WidgetControl(options=['position'], widget=HBox(children=(ToggleButton(v…"
      ]
     },
     "metadata": {},
     "output_type": "display_data"
    }
   ],
   "source": [
    "# Center and zoom\n",
    "if iso3 == \"REU\":\n",
    "    x, y, z = (55.53, -21.11, 12)\n",
    "elif iso3 == \"MDG\":\n",
    "    x, y, z = (46.70, -19.30, 8)\n",
    "elif iso3 == \"BEN\":\n",
    "    x, y, z = (0.7745, 6.2351, 8)\n",
    "elif iso3 == \"NCL\":\n",
    "    x, y, z = (0.7745, 6.2351, 8)\n",
    "elif iso3 == \"Masoala\":\n",
    "    x, y, z = (50.30, -15.47, 12)\n",
    "    \n",
    "# Create Map\n",
    "Map = geemap.Map()\n",
    "Map.setCenter(x, y, z)\n",
    "\n",
    "# Add layer\n",
    "Map.addLayer(forest.updateMask(forest), {'min': 0, 'max': 3, \"palette\": Palette}, \"forest2000-2020\", True)\n",
    "\n",
    "# Show map\n",
    "Map"
   ]
  },
  {
   "cell_type": "code",
   "execution_count": null,
   "metadata": {},
   "outputs": [],
   "source": []
  }
 ],
 "metadata": {
  "kernelspec": {
   "display_name": "Python 3",
   "language": "python",
   "name": "python3"
  },
  "language_info": {
   "codemirror_mode": {
    "name": "ipython",
    "version": 3
   },
   "file_extension": ".py",
   "mimetype": "text/x-python",
   "name": "python",
   "nbconvert_exporter": "python",
   "pygments_lexer": "ipython3",
   "version": "3.7.7"
  }
 },
 "nbformat": 4,
 "nbformat_minor": 4
}
